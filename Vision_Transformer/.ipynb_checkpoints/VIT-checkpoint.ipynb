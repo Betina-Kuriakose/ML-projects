{
 "cells": [
  {
   "cell_type": "markdown",
   "id": "54e24890-d293-406d-ad7c-cc648e37aae3",
   "metadata": {},
   "source": [
    "## Step 1: Import Lib and Datasets"
   ]
  },
  {
   "cell_type": "code",
   "execution_count": 1,
   "id": "fde18c85-f019-4fd8-b81c-3e81698ce221",
   "metadata": {},
   "outputs": [
    {
     "name": "stderr",
     "output_type": "stream",
     "text": [
      "C:\\Users\\Betina Kuriakose\\AppData\\Local\\Packages\\PythonSoftwareFoundation.Python.3.11_qbz5n2kfra8p0\\LocalCache\\local-packages\\Python311\\site-packages\\tensorflow_addons\\utils\\tfa_eol_msg.py:23: UserWarning: \n",
      "\n",
      "TensorFlow Addons (TFA) has ended development and introduction of new features.\n",
      "TFA has entered a minimal maintenance and release mode until a planned end of life in May 2024.\n",
      "Please modify downstream libraries to take dependencies from other repositories in our TensorFlow community (e.g. Keras, Keras-CV, and Keras-NLP). \n",
      "\n",
      "For more information see: https://github.com/tensorflow/addons/issues/2807 \n",
      "\n",
      "  warnings.warn(\n"
     ]
    }
   ],
   "source": [
    "import numpy as np\n",
    "import tensorflow as tf\n",
    "from tensorflow import keras\n",
    "from tensorflow.keras import layers\n",
    "import tensorflow_addons as tfa\n"
   ]
  },
  {
   "cell_type": "code",
   "execution_count": 2,
   "id": "f6cb2a07-14a4-4641-8119-b7a3204ee50b",
   "metadata": {},
   "outputs": [],
   "source": [
    "#!pip install tensorflow-addons==0.22.0\n"
   ]
  },
  {
   "cell_type": "code",
   "execution_count": 3,
   "id": "46e8e573-85c9-4324-99ec-beb727a840b4",
   "metadata": {},
   "outputs": [],
   "source": [
    "#!pip install tensorflow==2.14\n"
   ]
  },
  {
   "cell_type": "code",
   "execution_count": null,
   "id": "c7ceda23-b152-4d30-a93d-645e18285385",
   "metadata": {},
   "outputs": [],
   "source": []
  },
  {
   "cell_type": "code",
   "execution_count": 4,
   "id": "f1985900-1774-48c3-b723-14e2c68691f8",
   "metadata": {},
   "outputs": [],
   "source": [
    "num_classes = 10\n",
    "input_shape = (32, 32, 3)\n",
    "\n",
    "(x_train, y_train), (x_test, y_test) = keras.datasets.cifar10.load_data()"
   ]
  },
  {
   "cell_type": "code",
   "execution_count": 5,
   "id": "8ae23b4e-9f7e-4e2c-ab8f-aa27aeb3e04e",
   "metadata": {},
   "outputs": [],
   "source": [
    "x_train = x_train[:500]\n",
    "y_train = y_train[:500]\n",
    "x_test = x_test[:100]\n",
    "y_test = y_test[:100]\n",
    "    "
   ]
  },
  {
   "cell_type": "code",
   "execution_count": 6,
   "id": "ea8e80da-4730-4c0b-9fdb-a72fcc6d7bb1",
   "metadata": {},
   "outputs": [
    {
     "data": {
      "text/plain": [
       "(500, 32, 32, 3)"
      ]
     },
     "execution_count": 6,
     "metadata": {},
     "output_type": "execute_result"
    }
   ],
   "source": [
    "\n",
    "x_train.shape"
   ]
  },
  {
   "cell_type": "code",
   "execution_count": 7,
   "id": "f0e987e4-01e4-4c3f-bf8a-f7142230a967",
   "metadata": {},
   "outputs": [
    {
     "data": {
      "text/plain": [
       "(500, 1)"
      ]
     },
     "execution_count": 7,
     "metadata": {},
     "output_type": "execute_result"
    }
   ],
   "source": [
    "y_train.shape"
   ]
  },
  {
   "cell_type": "code",
   "execution_count": 8,
   "id": "7c2f0dcf-91de-4596-bfdc-62b7c7b83f29",
   "metadata": {},
   "outputs": [
    {
     "data": {
      "text/plain": [
       "(100, 32, 32, 3)"
      ]
     },
     "execution_count": 8,
     "metadata": {},
     "output_type": "execute_result"
    }
   ],
   "source": [
    "x_test.shape"
   ]
  },
  {
   "cell_type": "code",
   "execution_count": 9,
   "id": "1cc8e617-eabb-4025-a46d-ea048765aecb",
   "metadata": {},
   "outputs": [
    {
     "data": {
      "text/plain": [
       "(100, 1)"
      ]
     },
     "execution_count": 9,
     "metadata": {},
     "output_type": "execute_result"
    }
   ],
   "source": [
    "y_test.shape"
   ]
  },
  {
   "cell_type": "markdown",
   "id": "24c65dc4-35ca-403b-afa3-8422957bcd6b",
   "metadata": {},
   "source": [
    "## step 2 Hyper parameter definision"
   ]
  },
  {
   "cell_type": "code",
   "execution_count": 10,
   "id": "40f83d87-3078-41ac-9994-f4d11f58ca9f",
   "metadata": {},
   "outputs": [],
   "source": [
    "learning_rate = 0.001\n",
    "weight_decay = 0.0001\n",
    "batch_size = 256\n",
    "num_epochs = 30\n",
    "image_size = 72\n",
    "patch_size = 6\n",
    "num_patches = (image_size // patch_size) ** 2\n",
    "projection_dim = 64\n",
    "num_heads = 8\n",
    "transformer_units = [projection_dim * 2, projection_dim]\n",
    "transformer_layers = 8\n",
    "mlp_head_units = [2048, 1024]"
   ]
  },
  {
   "cell_type": "markdown",
   "id": "5b6cdd3a-c38b-47f7-a50d-b3051456e5ac",
   "metadata": {},
   "source": [
    "## # Step 3: Build ViT Classifier Model"
   ]
  },
  {
   "cell_type": "markdown",
   "id": "8a803fdb-f439-4fe7-96ad-0f560d26489e",
   "metadata": {},
   "source": [
    "### 3.1 Data Agumentation"
   ]
  },
  {
   "cell_type": "code",
   "execution_count": 11,
   "id": "112d64f3-ad1e-45e9-8649-09d77ca7ef5e",
   "metadata": {},
   "outputs": [],
   "source": [
    "data_augmentation = keras.Sequential(\n",
    "    [\n",
    "        layers.Normalization(),\n",
    "        layers.Resizing(image_size, image_size),\n",
    "        layers.RandomFlip(\"horizontal\"),\n",
    "        layers.RandomRotation(factor=0.2),\n",
    "        layers.RandomZoom(height_factor=0.2, width_factor=0.2),\n",
    "    ],\n",
    "    name=\"data_augmentation\",\n",
    ")\n",
    "data_augmentation.layers[0].adapt(x_train)"
   ]
  },
  {
   "cell_type": "markdown",
   "id": "a82aac15-be53-4eeb-bba6-dfb1ab4ec8d1",
   "metadata": {},
   "source": [
    "### 3.2 Define ML Architechture"
   ]
  },
  {
   "cell_type": "code",
   "execution_count": 12,
   "id": "feef6a92-38de-4a0f-86c2-b4b7407146a1",
   "metadata": {},
   "outputs": [],
   "source": [
    "def mlp(x, hidden_units, dropout_rate):\n",
    "    for units in hidden_units:\n",
    "        x = layers.Dense(units, activation=tf.nn.gelu)(x)\n",
    "        x = layers.Dropout(dropout_rate)(x)\n",
    "    return x\n"
   ]
  },
  {
   "cell_type": "markdown",
   "id": "8fec3cba-da30-473a-80a9-ab45d7630502",
   "metadata": {},
   "source": [
    "### 3.3 patches"
   ]
  },
  {
   "cell_type": "code",
   "execution_count": 13,
   "id": "dd554543-e397-4eac-9537-57d66aaf8c1d",
   "metadata": {},
   "outputs": [],
   "source": [
    "class Patches(layers.Layer):\n",
    "    def __init__(self, patch_size):\n",
    "        super(Patches, self).__init__()\n",
    "        self.patch_size = patch_size\n",
    "\n",
    "    def call(self, images):\n",
    "        batch_size = tf.shape(images)[0]\n",
    "        patches = tf.image.extract_patches(\n",
    "            images=images,\n",
    "            sizes=[1, self.patch_size, self.patch_size, 1],\n",
    "            strides=[1, self.patch_size, self.patch_size, 1],\n",
    "            rates=[1, 1, 1, 1],\n",
    "            padding=\"VALID\"\n",
    "        )\n",
    "        patch_dim = patches.shape[-1]\n",
    "        patches = tf.reshape(patches, [batch_size, -1, patch_dim])\n",
    "        return patches\n"
   ]
  },
  {
   "cell_type": "code",
   "execution_count": 14,
   "id": "7261ad1b-b3af-4e2e-b55f-7fa7d6e77bd7",
   "metadata": {},
   "outputs": [
    {
     "data": {
      "image/png": "[encoded data removed]",
      "text/plain": [
       "<Figure size 400x400 with 1 Axes>"
      ]
     },
     "metadata": {},
     "output_type": "display_data"
    },
    {
     "data": {
      "image/png": "[encoded data removed]",
      "text/plain": [
       "<Figure size 400x400 with 144 Axes>"
      ]
     },
     "metadata": {},
     "output_type": "display_data"
    }
   ],
   "source": [
    "import matplotlib.pyplot as plt\n",
    "\n",
    "plt.figure(figsize=(4, 4))\n",
    "image = x_train[np.random.choice(range(x_train.shape[0]))]\n",
    "plt.imshow(image)\n",
    "plt.axis('off')\n",
    "\n",
    "resized_image = tf.image.resize(tf.convert_to_tensor([image]), size=(image_size, image_size))\n",
    "patches = Patches(patch_size)(resized_image)\n",
    "\n",
    "n = int(np.sqrt(patches.shape[1]))\n",
    "plt.figure(figsize=(4, 4))\n",
    "for i, patch in enumerate(patches[0]):\n",
    "    ax = plt.subplot(n, n, i + 1)\n",
    "    patch_image = tf.reshape(patch, (patch_size, patch_size, 3))\n",
    "    plt.imshow(patch_image.numpy().astype('uint8'))\n",
    "    plt.axis('off')\n"
   ]
  },
  {
   "cell_type": "code",
   "execution_count": 15,
   "id": "e114f048-5397-45b7-b79e-de106f5d1672",
   "metadata": {},
   "outputs": [],
   "source": [
    "class PatchEncoder(layers.Layer):\n",
    "    def __init__(self, num_patches, projection_dim):\n",
    "        super(PatchEncoder, self).__init__()\n",
    "        self.num_patches = num_patches\n",
    "        self.projection = layers.Dense(units=projection_dim)\n",
    "        self.position_embedding = layers.Embedding(\n",
    "            input_dim=num_patches, output_dim=projection_dim\n",
    "        )\n",
    "\n",
    "    def call(self, patch):\n",
    "        positions = tf.range(start=0, limit=self.num_patches, delta=1)\n",
    "        encoded = self.projection(patch) + self.position_embedding(positions)\n",
    "        return encoded\n"
   ]
  },
  {
   "cell_type": "code",
   "execution_count": 16,
   "id": "882cf291-4801-4ecc-92f3-d9e1ef662945",
   "metadata": {},
   "outputs": [],
   "source": [
    "def create_vit_classifier():\n",
    "    inputs = layers.Input(shape=input_shape)\n",
    "    augmentation = data_augmentation(inputs)\n",
    "    patches = Patches(patch_size)(augmentation)\n",
    "    encoded_patches = PatchEncoder(num_patches, projection_dim)(patches)\n",
    "\n",
    "    for _ in range(transformer_layers):\n",
    "        x1 = layers.LayerNormalization(epsilon=1e-6)(encoded_patches)\n",
    "        attention_output = layers.MultiHeadAttention(\n",
    "            num_heads=num_heads, key_dim=projection_dim, dropout=0.1\n",
    "        )(x1, x1)\n",
    "        x2 = layers.Add()([attention_output, encoded_patches])\n",
    "        x3 = layers.LayerNormalization(epsilon=1e-6)(x2)\n",
    "        x4 = mlp(\n",
    "            x3, hidden_units=transformer_units, dropout_rate=0.1\n",
    "        )\n",
    "        encoded_patches = layers.Add()([x4, x2])\n",
    "\n",
    "    representation = layers.LayerNormalization(epsilon=1e-6)(encoded_patches)\n",
    "    representation = layers.Flatten()(representation)\n",
    "    representation = layers.Dropout(0.5)(representation)\n",
    "    features = mlp(\n",
    "        representation, hidden_units=mlp_head_units, dropout_rate=0.5\n",
    "    )\n",
    "    logits = layers.Dense(num_classes)(features)\n",
    "\n",
    "    model = keras.Model(inputs=inputs, outputs=logits)\n",
    "    return model\n"
   ]
  },
  {
   "cell_type": "code",
   "execution_count": 17,
   "id": "91d8517c-3b56-40cf-bbb0-4ff7dd55fc70",
   "metadata": {},
   "outputs": [],
   "source": [
    "def run(model):\n",
    "    optimizer = tfa.optimizers.AdamW(learning_rate=learning_rate, weight_decay=weight_decay)\n",
    "    model.compile(\n",
    "        optimizer=optimizer,\n",
    "        loss=keras.losses.SparseCategoricalCrossentropy(from_logits=True),\n",
    "        metrics=[\n",
    "            keras.metrics.SparseCategoricalAccuracy(name=\"accuracy\"),\n",
    "            keras.metrics.SparseTopKCategoricalAccuracy(5, name=\"top_5_accuracy\"),\n",
    "        ],\n",
    "    )\n",
    "    checkpoint_filepath = \"./tmp/checkpoint\"\n",
    "    checkpoint_callback = keras.callbacks.ModelCheckpoint(\n",
    "        checkpoint_filepath, monitor=\"val_accuracy\", save_best_only=True, save_weights_only=True\n",
    "    )\n",
    "    history = model.fit(\n",
    "        x_train, y_train,\n",
    "        batch_size=batch_size,\n",
    "        epochs=num_epochs,\n",
    "        validation_split=0.1,\n",
    "        callbacks=[checkpoint_callback],\n",
    "    )\n",
    "\n",
    "    _, accuracy, top_5_accuracy = model.evaluate(x_test, y_test)\n",
    "    print(f\"Test Accuracy: {round(accuracy*100, 2)}%\")\n",
    "    print(f\"Test Top 5 Accuracy: {round(top_5_accuracy*100, 2)}%\")\n"
   ]
  },
  {
   "cell_type": "code",
   "execution_count": 18,
   "id": "ea9b0db1-2367-4a6a-a4ec-50f0e33d0db7",
   "metadata": {},
   "outputs": [
    {
     "name": "stdout",
     "output_type": "stream",
     "text": [
      "Epoch 1/30\n",
      "2/2 [==============================] - 94s 35s/step - loss: 6.3120 - accuracy: 0.1267 - top_5_accuracy: 0.5311 - val_loss: 4.2305 - val_accuracy: 0.2200 - val_top_5_accuracy: 0.7200\n",
      "Epoch 2/30\n",
      "2/2 [==============================] - 69s 22s/step - loss: 6.5068 - accuracy: 0.1689 - top_5_accuracy: 0.6133 - val_loss: 3.3364 - val_accuracy: 0.1600 - val_top_5_accuracy: 0.7200\n",
      "Epoch 3/30\n",
      "2/2 [==============================] - 63s 26s/step - loss: 4.2004 - accuracy: 0.2022 - top_5_accuracy: 0.6956 - val_loss: 2.7148 - val_accuracy: 0.1600 - val_top_5_accuracy: 0.7600\n",
      "Epoch 4/30\n",
      "2/2 [==============================] - 72s 24s/step - loss: 3.5804 - accuracy: 0.1822 - top_5_accuracy: 0.6444 - val_loss: 2.2600 - val_accuracy: 0.1800 - val_top_5_accuracy: 0.7000\n",
      "Epoch 5/30\n",
      "2/2 [==============================] - 65s 19s/step - loss: 2.7654 - accuracy: 0.2267 - top_5_accuracy: 0.6844 - val_loss: 2.1912 - val_accuracy: 0.1800 - val_top_5_accuracy: 0.7000\n",
      "Epoch 6/30\n",
      "2/2 [==============================] - 63s 23s/step - loss: 2.6318 - accuracy: 0.2000 - top_5_accuracy: 0.6911 - val_loss: 2.0748 - val_accuracy: 0.1600 - val_top_5_accuracy: 0.7400\n",
      "Epoch 7/30\n",
      "2/2 [==============================] - 58s 18s/step - loss: 2.4439 - accuracy: 0.2111 - top_5_accuracy: 0.7311 - val_loss: 1.9696 - val_accuracy: 0.1800 - val_top_5_accuracy: 0.8600\n",
      "Epoch 8/30\n",
      "2/2 [==============================] - 68s 22s/step - loss: 2.3177 - accuracy: 0.2467 - top_5_accuracy: 0.7600 - val_loss: 1.9560 - val_accuracy: 0.2000 - val_top_5_accuracy: 0.8000\n",
      "Epoch 9/30\n",
      "2/2 [==============================] - 63s 23s/step - loss: 2.2945 - accuracy: 0.2356 - top_5_accuracy: 0.7378 - val_loss: 1.9522 - val_accuracy: 0.2400 - val_top_5_accuracy: 0.8000\n",
      "Epoch 10/30\n",
      "2/2 [==============================] - 71s 24s/step - loss: 2.2710 - accuracy: 0.2533 - top_5_accuracy: 0.7556 - val_loss: 1.9170 - val_accuracy: 0.2800 - val_top_5_accuracy: 0.7800\n",
      "Epoch 11/30\n",
      "2/2 [==============================] - 59s 22s/step - loss: 2.1619 - accuracy: 0.2778 - top_5_accuracy: 0.7800 - val_loss: 1.8989 - val_accuracy: 0.3000 - val_top_5_accuracy: 0.8600\n",
      "Epoch 12/30\n",
      "2/2 [==============================] - 54s 19s/step - loss: 2.2280 - accuracy: 0.2311 - top_5_accuracy: 0.7689 - val_loss: 1.9008 - val_accuracy: 0.2600 - val_top_5_accuracy: 0.8400\n",
      "Epoch 13/30\n",
      "2/2 [==============================] - 53s 18s/step - loss: 2.1329 - accuracy: 0.2667 - top_5_accuracy: 0.7822 - val_loss: 1.8939 - val_accuracy: 0.3000 - val_top_5_accuracy: 0.8400\n",
      "Epoch 14/30\n",
      "2/2 [==============================] - 75s 41s/step - loss: 2.0324 - accuracy: 0.2844 - top_5_accuracy: 0.8044 - val_loss: 1.8929 - val_accuracy: 0.3000 - val_top_5_accuracy: 0.8200\n",
      "Epoch 15/30\n",
      "2/2 [==============================] - 56s 23s/step - loss: 2.0551 - accuracy: 0.3000 - top_5_accuracy: 0.8000 - val_loss: 1.9066 - val_accuracy: 0.2000 - val_top_5_accuracy: 0.8200\n",
      "Epoch 16/30\n",
      "2/2 [==============================] - 54s 19s/step - loss: 2.0279 - accuracy: 0.3000 - top_5_accuracy: 0.7844 - val_loss: 1.9266 - val_accuracy: 0.1800 - val_top_5_accuracy: 0.8000\n",
      "Epoch 17/30\n",
      "2/2 [==============================] - 51s 19s/step - loss: 1.9855 - accuracy: 0.3067 - top_5_accuracy: 0.8356 - val_loss: 1.9424 - val_accuracy: 0.1600 - val_top_5_accuracy: 0.7800\n",
      "Epoch 18/30\n",
      "2/2 [==============================] - 56s 19s/step - loss: 1.9924 - accuracy: 0.3000 - top_5_accuracy: 0.7933 - val_loss: 1.9607 - val_accuracy: 0.1400 - val_top_5_accuracy: 0.8000\n",
      "Epoch 19/30\n",
      "2/2 [==============================] - 53s 16s/step - loss: 2.0074 - accuracy: 0.2822 - top_5_accuracy: 0.7956 - val_loss: 1.9366 - val_accuracy: 0.2600 - val_top_5_accuracy: 0.8000\n",
      "Epoch 20/30\n",
      "2/2 [==============================] - 48s 18s/step - loss: 1.9247 - accuracy: 0.3200 - top_5_accuracy: 0.8356 - val_loss: 1.9181 - val_accuracy: 0.2600 - val_top_5_accuracy: 0.7800\n",
      "Epoch 21/30\n",
      "2/2 [==============================] - 51s 19s/step - loss: 1.9262 - accuracy: 0.3022 - top_5_accuracy: 0.8467 - val_loss: 1.8936 - val_accuracy: 0.2200 - val_top_5_accuracy: 0.7800\n",
      "Epoch 22/30\n",
      "2/2 [==============================] - 55s 16s/step - loss: 1.9285 - accuracy: 0.3089 - top_5_accuracy: 0.8222 - val_loss: 1.8879 - val_accuracy: 0.2200 - val_top_5_accuracy: 0.8000\n",
      "Epoch 23/30\n",
      "2/2 [==============================] - 53s 14s/step - loss: 1.8865 - accuracy: 0.3556 - top_5_accuracy: 0.8511 - val_loss: 1.8839 - val_accuracy: 0.2600 - val_top_5_accuracy: 0.8400\n",
      "Epoch 24/30\n",
      "2/2 [==============================] - 49s 16s/step - loss: 1.8748 - accuracy: 0.3422 - top_5_accuracy: 0.8133 - val_loss: 1.9188 - val_accuracy: 0.1600 - val_top_5_accuracy: 0.8200\n",
      "Epoch 25/30\n",
      "2/2 [==============================] - 592s 19s/step - loss: 1.8224 - accuracy: 0.3200 - top_5_accuracy: 0.8756 - val_loss: 1.8859 - val_accuracy: 0.1800 - val_top_5_accuracy: 0.8200\n",
      "Epoch 26/30\n",
      "2/2 [==============================] - 54s 16s/step - loss: 1.9334 - accuracy: 0.3067 - top_5_accuracy: 0.8289 - val_loss: 1.8996 - val_accuracy: 0.2000 - val_top_5_accuracy: 0.8200\n",
      "Epoch 27/30\n",
      "2/2 [==============================] - 56s 19s/step - loss: 1.8162 - accuracy: 0.3333 - top_5_accuracy: 0.8511 - val_loss: 1.9399 - val_accuracy: 0.1800 - val_top_5_accuracy: 0.8400\n",
      "Epoch 28/30\n",
      "2/2 [==============================] - 51s 14s/step - loss: 1.8067 - accuracy: 0.3600 - top_5_accuracy: 0.8511 - val_loss: 1.8957 - val_accuracy: 0.2800 - val_top_5_accuracy: 0.8600\n",
      "Epoch 29/30\n",
      "2/2 [==============================] - 53s 15s/step - loss: 1.7653 - accuracy: 0.3644 - top_5_accuracy: 0.8644 - val_loss: 1.8730 - val_accuracy: 0.2800 - val_top_5_accuracy: 0.8000\n",
      "Epoch 30/30\n",
      "2/2 [==============================] - 51s 15s/step - loss: 1.7688 - accuracy: 0.3578 - top_5_accuracy: 0.8578 - val_loss: 1.9024 - val_accuracy: 0.2200 - val_top_5_accuracy: 0.7800\n",
      "4/4 [==============================] - 2s 478ms/step - loss: 1.9006 - accuracy: 0.2500 - top_5_accuracy: 0.8200\n",
      "Test Accuracy: 25.0%\n",
      "Test Top 5 Accuracy: 82.0%\n"
     ]
    }
   ],
   "source": [
    "vit_classifier = create_vit_classifier()\n",
    "history = run(vit_classifier)\n"
   ]
  },
  {
   "cell_type": "code",
   "execution_count": 22,
   "id": "fc0bc46d-4229-4610-910c-311902654975",
   "metadata": {},
   "outputs": [],
   "source": [
    "class_names = [\n",
    "    'airplane',\n",
    "    'automobile',\n",
    "    'bird',\n",
    "    'cat',\n",
    "    'deer',\n",
    "    'dog',\n",
    "    'frog',\n",
    "    'horse',\n",
    "    'ship',\n",
    "    'truck'\n",
    "]\n",
    "\n",
    "def img_predict(images, model):\n",
    "    if len(images.shape) == 3:\n",
    "        out = model.predict(images.reshape(-1, *images.shape))\n",
    "    else:\n",
    "        out = model.predict(images)\n",
    "    prediction = np.argmax(out, axis=1)\n",
    "    img_prediction = [class_names[i] for i in prediction]\n",
    "    return img_prediction\n"
   ]
  },
  {
   "cell_type": "code",
   "execution_count": 23,
   "id": "88f294e6-29d5-4c65-8801-03e91020b469",
   "metadata": {},
   "outputs": [
    {
     "name": "stdout",
     "output_type": "stream",
     "text": [
      "1/1 [==============================] - 0s 59ms/step\n",
      "['cat']\n"
     ]
    },
    {
     "data": {
      "image/png": "[encoded data removed]",
      "text/plain": [
       "<Figure size 640x480 with 1 Axes>"
      ]
     },
     "metadata": {},
     "output_type": "display_data"
    }
   ],
   "source": [
    "index = 16\n",
    "plt.imshow(x_test[index])\n",
    "prediction = img_predict(x_test[index], vit_classifier)\n",
    "print(prediction)\n"
   ]
  },
  {
   "cell_type": "code",
   "execution_count": null,
   "id": "6e93355a-4403-4142-b69f-4ae9f0c3720a",
   "metadata": {},
   "outputs": [],
   "source": []
  }
 ],
 "metadata": {
  "kernelspec": {
   "display_name": "Python 3 (ipykernel)",
   "language": "python",
   "name": "python3"
  },
  "language_info": {
   "codemirror_mode": {
    "name": "ipython",
    "version": 3
   },
   "file_extension": ".py",
   "mimetype": "text/x-python",
   "name": "python",
   "nbconvert_exporter": "python",
   "pygments_lexer": "ipython3",
   "version": "3.11.9"
  }
 },
 "nbformat": 4,
 "nbformat_minor": 5
}
