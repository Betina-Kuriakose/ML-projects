{
 "cells": [
  {
   "cell_type": "code",
   "execution_count": 1,
   "id": "62d7ab21-004d-482d-9708-4890b506c320",
   "metadata": {},
   "outputs": [],
   "source": [
    "# !pip list"
   ]
  },
  {
   "cell_type": "code",
   "execution_count": 1,
   "id": "310480a7-76e8-4d0e-be6e-65e6165ab691",
   "metadata": {},
   "outputs": [],
   "source": [
    "import os\n",
    "import numpy as np\n",
    "import matplotlib.pyplot as plt\n",
    "import PIL.Image, PIL.ImageFont, PIL.ImageDraw\n",
    "import tensorflow as tf\n",
    "import tensorflow_datasets as tfds"
   ]
  },
  {
   "cell_type": "code",
   "execution_count": 2,
   "id": "59e8174d-5f42-4d71-87f4-56f2b1e9db26",
   "metadata": {},
   "outputs": [],
   "source": [
    "from tensorflow.keras import layers, models"
   ]
  },
  {
   "cell_type": "code",
   "execution_count": 6,
   "id": "ef1973a9-f45f-4dd3-9c42-a26b1e65de9a",
   "metadata": {},
   "outputs": [],
   "source": [
    "# pip install tensorflow_datasets"
   ]
  },
  {
   "cell_type": "markdown",
   "id": "d5838d48-4eff-435c-81fd-d327f8f62c3b",
   "metadata": {},
   "source": [
    "### Visualization Utilities\n"
   ]
  },
  {
   "cell_type": "code",
   "execution_count": 3,
   "id": "e3905663-11b7-4a7f-bdeb-4b1016c01f69",
   "metadata": {},
   "outputs": [],
   "source": [
    "im_width =75\n",
    "im_height =75\n",
    "use_normalized_coordinates =True"
   ]
  },
  {
   "cell_type": "code",
   "execution_count": 4,
   "id": "3fbdee88-77e9-40fc-8cac-d2510d8dd71c",
   "metadata": {},
   "outputs": [],
   "source": [
    "def draw_bounding_boxes_on_image_array(image, boxes, color=[], thickness=1, display_str_list=()):\n",
    "    image_pil = PIL.Image.fromarray(image)\n",
    "    rgbimg = PIL.Image.new(\"RGBA\", image_pil.size)\n",
    "    rgbimg.paste(image_pil)\n",
    "    draw_bounding_boxes_on_image(rgbimg, boxes, color, thickness, display_str_list)\n",
    "    return np.array(rgbimg)\n",
    "\n",
    "def draw_bounding_boxes_on_image(image, boxes, color=[], thickness=1, display_str_list=()):\n",
    "    boxes_shape = boxes.shape\n",
    "    if not boxes_shape:\n",
    "        return\n",
    "    if len(boxes_shape) != 2 or boxes_shape[1] != 4:\n",
    "        raise ValueError('Input must be of size [N,4]')\n",
    "    for i in range(boxes_shape[0]):\n",
    "        draw_bounding_box_on_image(image,\n",
    "                                   boxes[i,1], boxes[i,0], boxes[i,3], boxes[i,2],\n",
    "                                   color[i],\n",
    "                                   thickness,\n",
    "                                   display_str_list[i])\n",
    "\n",
    "def draw_bounding_box_on_image(image, ymin, xmin, ymax, xmax,\n",
    "                              color='red', thickness=1,\n",
    "                              display_str_list=None,\n",
    "                              use_normalized_coordinates=True):\n",
    "    draw = PIL.ImageDraw.Draw(image)\n",
    "    im_width, im_height = image.size\n",
    "    if use_normalized_coordinates:\n",
    "        (left, right, top, bottom) = (xmin * im_width, xmax * im_width, ymin * im_height, ymax * im_height)\n",
    "    else:\n",
    "        (left, right, top, bottom) = (xmin, xmax, ymin, ymax)\n",
    "    draw.line([(left, top), (left, bottom), (right, bottom), (right, top), (left, top)],\n",
    "              width=thickness, fill=color)"
   ]
  },
  {
   "cell_type": "code",
   "execution_count": 5,
   "id": "45e81b00-3389-4f18-b264-f5cac21d37c6",
   "metadata": {},
   "outputs": [],
   "source": [
    "def dataset_to_numpy_util(training_dataset, validation_dataset, N):\n",
    "    batch_train_ds = training_dataset.unbatch().batch(N)\n",
    "    \n",
    "    if tf.executing_eagerly():\n",
    "        for validation_digits, (validation_labels, validation_bboxes) in validation_dataset:\n",
    "            validation_digits = validation_digits.numpy()\n",
    "            validation_labels = validation_labels.numpy()\n",
    "            validation_bboxes = validation_bboxes.numpy()\n",
    "            break\n",
    "        for training_digits, (training_labels, training_bboxes) in training_dataset:\n",
    "            training_digits = training_digits.numpy()\n",
    "            training_labels = training_labels.numpy()\n",
    "            training_bboxes = training_bboxes.numpy()\n",
    "            break\n",
    "\n",
    "    validation_labels = np.argmax(validation_labels, axis=1)\n",
    "    training_labels = np.argmax(training_labels, axis=1)\n",
    "    return (training_digits, training_labels, training_bboxes,\n",
    "            validation_digits, validation_labels, validation_bboxes)\n"
   ]
  },
  {
   "cell_type": "code",
   "execution_count": 6,
   "id": "55255278-6ed5-4fad-bc94-9b9e4d987ee1",
   "metadata": {},
   "outputs": [],
   "source": [
    "MATPLOTLIB_FONT_DIR = os.path.join(os.path.dirname(plt.__file__), \"mpl-data/fonts/ttf\")\n",
    "\n",
    "def create_digits_from_local_fonts(n):\n",
    "    font_labels = []\n",
    "    img = PIL.Image.new('LA', (75*n, 75), color=(0, 255))\n",
    "    font1 = PIL.ImageFont.truetype(os.path.join(MATPLOTLIB_FONT_DIR, 'DejaVuSansMono-Oblique.ttf'), 25)\n",
    "    font2 = PIL.ImageFont.truetype(os.path.join(MATPLOTLIB_FONT_DIR, 'STIXGeneral.ttf'), 25)\n",
    "    d = PIL.ImageDraw.Draw(img)\n",
    "    for i in range(n):\n",
    "        font_labels.append(i % 10)\n",
    "        d.text(((7 + i * 75, 0 if i < 10 else -4)), str(i % 10), fill=(255, 255), font=font1 if i < 10 else font2)\n",
    "    font_digits = np.array(img.getdata(), np.float32)[:, 0] / 255.0\n",
    "    font_digits = np.reshape(np.stack(np.split(np.reshape(font_digits, [75, 75 * n], axis=1), axis=0))[n, 75 * 75])\n",
    "    return font_digits, font_labels"
   ]
  },
  {
   "cell_type": "code",
   "execution_count": 7,
   "id": "96314056-567d-42b7-8704-c3d9d402b626",
   "metadata": {},
   "outputs": [],
   "source": [
    "def display_digits_with_boxes(digits, predictions, labels, pred_bboxes, bboxes, iou, title):\n",
    "    n = 3\n",
    "    indexes = np.random.choice(len(predictions), size=n)\n",
    "    n_digits = digits[indexes]\n",
    "    n_predictions = predictions[indexes]\n",
    "    n_labels = labels[indexes]\n",
    "    n_iou = []\n",
    "    if len(iou) > 0:\n",
    "        n_iou = iou[indexes]\n",
    "\n",
    "    if len(pred_bboxes) > 0:\n",
    "        n_pred_bboxes = pred_bboxes[indexes]\n",
    "\n",
    "    if len(bboxes) > 0:\n",
    "        n_bboxes = bboxes[indexes]\n",
    "\n",
    "    n_digits = n_digits * 255.0\n",
    "    n_digits = n_digits.reshape(n, 75, 75)\n",
    "    fig = plt.figure(figsize=(20, 4))\n",
    "    plt.title(title)\n",
    "    plt.xticks([])\n",
    "    plt.yticks([])\n",
    "\n",
    "    for i in range(n):\n",
    "        ax = fig.add_subplot(1, n, i + 1)\n",
    "        bboxes_to_plot = []\n",
    "        if (len(pred_bboxes) > i):\n",
    "            bboxes_to_plot.append(n_pred_bboxes[i])\n",
    "        if (len(bboxes) > i):\n",
    "            bboxes_to_plot.append(n_bboxes[i])\n",
    "\n",
    "        img_to_draw = draw_bounding_boxes_on_image_array(\n",
    "            image=n_digits[i],\n",
    "            boxes=np.asarray(bboxes_to_plot),\n",
    "            color=['red', 'green'],\n",
    "            display_str_list=[\"True\", \"Pred\"]\n",
    "        )\n",
    "\n",
    "        plt.xlabel(n_predictions[i])\n",
    "        plt.xticks([])\n",
    "        plt.yticks([])\n",
    "\n",
    "        if n_predictions[i] != n_labels[i]:\n",
    "            ax.xaxis.label.set_color('red')\n",
    "\n",
    "        plt.imshow(img_to_draw)\n",
    "\n",
    "        if len(n_iou) > i:\n",
    "            color = \"black\"\n",
    "            if (n_iou[i][0] < iou_threshold):\n",
    "                color = \"red\"\n",
    "            ax.text(0.2, -0.3, \"iou: %s\" % (n_iou[i][0]), color=color, transform=ax.transAxes)"
   ]
  },
  {
   "cell_type": "code",
   "execution_count": 8,
   "id": "83c32798-c802-48eb-9537-a8043b2b5980",
   "metadata": {},
   "outputs": [],
   "source": [
    "def plot_metrics(metric_name, title):\n",
    "    plt.title(title)\n",
    "    plt.plot(history.history[metric_name], color='blue', label=metric_name)\n",
    "    plt.plot(history.history['val_' + metric_name], color='green', label='val_' + metric_name)"
   ]
  },
  {
   "cell_type": "markdown",
   "id": "cb7e49a5-8f06-460e-8a5d-5e13914caca7",
   "metadata": {},
   "source": [
    "### 2. Loading and Preprocessing the dataset"
   ]
  },
  {
   "cell_type": "code",
   "execution_count": 9,
   "id": "7528b48c-ef9f-40ed-a025-5b5b6ecdd87b",
   "metadata": {},
   "outputs": [
    {
     "data": {
      "text/plain": [
       "1"
      ]
     },
     "execution_count": 9,
     "metadata": {},
     "output_type": "execute_result"
    }
   ],
   "source": [
    "strategy = tf.distribute.get_strategy()\n",
    "strategy.num_replicas_in_sync"
   ]
  },
  {
   "cell_type": "code",
   "execution_count": 10,
   "id": "f63a2e5e-6f9d-4ff1-8239-0cd6f9740cfb",
   "metadata": {},
   "outputs": [],
   "source": [
    "BATCH_SIZE = 64 * strategy.num_replicas_in_sync\n"
   ]
  },
  {
   "cell_type": "code",
   "execution_count": 11,
   "id": "cc92f030-fb52-495f-9744-6e49e1335364",
   "metadata": {},
   "outputs": [],
   "source": [
    "def read_image_tfds(image, label):\n",
    "    # Random offsets for padding to 75x75\n",
    "    xmin = tf.random.uniform(shape=(), minval=0, maxval=48, dtype=tf.int32)\n",
    "    ymin = tf.random.uniform(shape=(), minval=0, maxval=48, dtype=tf.int32)\n",
    "\n",
    "    # Reshape MNIST image to (28,28,1)\n",
    "    image = tf.reshape(image, (28, 28, 1))\n",
    "\n",
    "    # Pad image with offset to (75, 75)\n",
    "    image = tf.image.pad_to_bounding_box(image, ymin, xmin, 75, 75)\n",
    "\n",
    "    # Normalize pixel values to [0,1]\n",
    "    image = tf.cast(image, tf.float32) / 255.0\n",
    "\n",
    "    # Convert coordinates to float32\n",
    "    xmin = tf.cast(xmin, tf.float32)\n",
    "    ymin = tf.cast(ymin, tf.float32)\n",
    "\n",
    "    # Compute normalized bounding box coordinates\n",
    "    xmax = (xmin + 28) / 75.0\n",
    "    ymax = (ymin + 28) / 75.0\n",
    "    xmin = xmin / 75.0\n",
    "    ymin = ymin / 75.0\n",
    "\n",
    "    # One-hot encode label\n",
    "    label_one_hot = tf.one_hot(label, 10)\n",
    "\n",
    "    # Return image and tuple of label and bounding box\n",
    "    return image, (label_one_hot, tf.stack([xmin, ymin, xmax, ymax]))\n"
   ]
  },
  {
   "cell_type": "code",
   "execution_count": 12,
   "id": "c499b00e-24a0-4394-8cb8-c65844b90385",
   "metadata": {},
   "outputs": [],
   "source": [
    "def get_training_dataset():\n",
    "    dataset = tfds.load(\"mnist\", split=\"train\", as_supervised=True, try_gcs=True)\n",
    "    dataset = dataset.map(read_image_tfds, num_parallel_calls=tf.data.AUTOTUNE)\n",
    "    dataset = dataset.shuffle(5000).repeat()\n",
    "    dataset = dataset.batch(BATCH_SIZE, drop_remainder=True)\n",
    "    dataset = dataset.prefetch(tf.data.AUTOTUNE)\n",
    "    return dataset\n",
    "\n",
    "\n"
   ]
  },
  {
   "cell_type": "code",
   "execution_count": 13,
   "id": "d27b1c7d-2e67-4693-8545-9ff8a02d80d0",
   "metadata": {},
   "outputs": [],
   "source": [
    "def get_validation_dataset():\n",
    "    dataset = tfds.load(\"mnist\", split=\"train\", as_supervised=True, try_gcs=True)\n",
    "    dataset = dataset.map(read_image_tfds, num_parallel_calls=tf.data.AUTOTUNE)\n",
    "    dataset = dataset.batch(10000, drop_remainder=True)\n",
    "    dataset = dataset.repeat()\n",
    "    return dataset"
   ]
  },
  {
   "cell_type": "code",
   "execution_count": 14,
   "id": "6f6d743a-3672-4e16-a642-cd1d1d341716",
   "metadata": {},
   "outputs": [],
   "source": [
    "with strategy.scope():\n",
    "    training_dataset = get_training_dataset()\n",
    "    validation_dataset = get_validation_dataset()"
   ]
  },
  {
   "cell_type": "code",
   "execution_count": 15,
   "id": "510cc710-a6a8-44e8-8442-bda49216befa",
   "metadata": {},
   "outputs": [],
   "source": [
    "(training_digits, training_labels, training_bboxes, \n",
    " validation_digits, validation_labels, validation_bboxes) = dataset_to_numpy_util(training_dataset, validation_dataset, 10)"
   ]
  },
  {
   "cell_type": "markdown",
   "id": "f8dc1ea4-f138-447b-a0a3-e218aaa5a8c1",
   "metadata": {},
   "source": [
    "### 3. Visualize Data"
   ]
  },
  {
   "cell_type": "code",
   "execution_count": 16,
   "id": "3fc0daa6-aa3b-4a14-b864-92f3496e317e",
   "metadata": {},
   "outputs": [
    {
     "data": {
      "image/png": "[encoded data removed]",
      "text/plain": [
       "<Figure size 2000x400 with 4 Axes>"
      ]
     },
     "metadata": {},
     "output_type": "display_data"
    }
   ],
   "source": [
    "display_digits_with_boxes(\n",
    "    training_digits, training_labels, training_labels, \n",
    "    np.array([]), training_bboxes, np.array([]), \n",
    "    \"Training Digits & Labels\")\n",
    "\n"
   ]
  },
  {
   "cell_type": "code",
   "execution_count": 17,
   "id": "7379f818-a725-41cf-b2f1-b3f889d8b438",
   "metadata": {},
   "outputs": [
    {
     "data": {
      "image/png": "[encoded data removed]",
      "text/plain": [
       "<Figure size 2000x400 with 4 Axes>"
      ]
     },
     "metadata": {},
     "output_type": "display_data"
    }
   ],
   "source": [
    "display_digits_with_boxes(\n",
    "    validation_digits, validation_labels, validation_labels, \n",
    "    np.array([]), validation_bboxes, np.array([]), \n",
    "    \"Validation Digits & Labels\")\n"
   ]
  },
  {
   "cell_type": "markdown",
   "id": "d8a46cdc-3fd3-4f7e-ae91-907c41d28c87",
   "metadata": {},
   "source": [
    "### 4. Define the Network "
   ]
  },
  {
   "cell_type": "code",
   "execution_count": 18,
   "id": "3e540db3-d10c-48ff-a09f-eb0f44729953",
   "metadata": {},
   "outputs": [],
   "source": [
    "def feature_extractor(inputs):\n",
    "    x = tf.keras.layers.Conv2D(16, activation='relu', kernel_size=3, input_shape=(75,75,1))(inputs)\n",
    "    x = tf.keras.layers.AveragePooling2D((2,2))(x)\n",
    "\n",
    "    x = tf.keras.layers.Conv2D(32, activation='relu', kernel_size=3)(x)\n",
    "    x = tf.keras.layers.AveragePooling2D((2,2))(x)\n",
    "\n",
    "    x = tf.keras.layers.Conv2D(64, activation='relu', kernel_size=3)(x)\n",
    "    x = tf.keras.layers.AveragePooling2D((2,2))(x)\n",
    "\n",
    "    return x"
   ]
  },
  {
   "cell_type": "code",
   "execution_count": 19,
   "id": "be30e0d0-05a2-48dc-a078-ad1556100599",
   "metadata": {},
   "outputs": [],
   "source": [
    "def dense_layers(inputs):\n",
    "    x = tf.keras.layers.Flatten()(inputs)\n",
    "    x = tf.keras.layers.Dense(128, activation='relu')(x)\n",
    "    return x"
   ]
  },
  {
   "cell_type": "code",
   "execution_count": 20,
   "id": "b19e9bb6-d2fb-4efc-8898-efdde4005496",
   "metadata": {},
   "outputs": [],
   "source": [
    "def classifier(inputs):\n",
    "    classification_output = tf.keras.layers.Dense(10, activation=\"softmax\", name=\"classification\")(inputs)\n",
    "    return classification_output"
   ]
  },
  {
   "cell_type": "code",
   "execution_count": 21,
   "id": "aae1bc31-6563-43b8-989b-28fff83978fb",
   "metadata": {},
   "outputs": [],
   "source": [
    "def bounding_box_regression(inputs):\n",
    "    bounding_box_regression_output = tf.keras.layers.Dense(4, name=\"bounding_box\")(inputs)\n",
    "    return bounding_box_regression_output"
   ]
  },
  {
   "cell_type": "code",
   "execution_count": 22,
   "id": "bf7b06b7-8ac9-4f8b-bc14-431ae3047259",
   "metadata": {},
   "outputs": [],
   "source": [
    "def final_model(inputs):\n",
    "    feature_cnn = feature_extractor(inputs)\n",
    "    dense_output = dense_layers(feature_cnn)  \n",
    "    \n",
    "    classification_output = classifier(dense_output)  \n",
    "    bounding_box_output = bounding_box_regression(dense_output)\n",
    "\n",
    "    model = tf.keras.Model(inputs=inputs, outputs=[classification_output, bounding_box_output])\n",
    "    return model\n"
   ]
  },
  {
   "cell_type": "code",
   "execution_count": null,
   "id": "ba87e1a7-abc7-48b1-94c6-f8a46f3c4246",
   "metadata": {},
   "outputs": [],
   "source": []
  },
  {
   "cell_type": "code",
   "execution_count": 23,
   "id": "6ed4ab84-a7b6-4bb0-bcb8-615d7b503035",
   "metadata": {},
   "outputs": [],
   "source": [
    "def define_and_compile_model(inputs):\n",
    "    model = final_model(inputs)\n",
    "    model.compile(\n",
    "        optimizer='adam',\n",
    "        loss={\n",
    "            'classification': 'categorical_crossentropy',\n",
    "            'bounding_box': 'mse'\n",
    "        },\n",
    "        metrics={\n",
    "            'classification': ['accuracy'],\n",
    "            'bounding_box': ['mse']\n",
    "        }\n",
    "    )\n",
    "\n",
    "    return model   \n",
    "\n"
   ]
  },
  {
   "cell_type": "code",
   "execution_count": 24,
   "id": "7cbfc295-f62b-420f-be78-d9c597703c19",
   "metadata": {},
   "outputs": [
    {
     "name": "stdout",
     "output_type": "stream",
     "text": [
      "Model: \"model\"\n",
      "__________________________________________________________________________________________________\n",
      " Layer (type)                Output Shape                 Param #   Connected to                  \n",
      "==================================================================================================\n",
      " input_1 (InputLayer)        [(None, 75, 75, 1)]          0         []                            \n",
      "                                                                                                  \n",
      " conv2d (Conv2D)             (None, 73, 73, 16)           160       ['input_1[0][0]']             \n",
      "                                                                                                  \n",
      " average_pooling2d (Average  (None, 36, 36, 16)           0         ['conv2d[0][0]']              \n",
      " Pooling2D)                                                                                       \n",
      "                                                                                                  \n",
      " conv2d_1 (Conv2D)           (None, 34, 34, 32)           4640      ['average_pooling2d[0][0]']   \n",
      "                                                                                                  \n",
      " average_pooling2d_1 (Avera  (None, 17, 17, 32)           0         ['conv2d_1[0][0]']            \n",
      " gePooling2D)                                                                                     \n",
      "                                                                                                  \n",
      " conv2d_2 (Conv2D)           (None, 15, 15, 64)           18496     ['average_pooling2d_1[0][0]'] \n",
      "                                                                                                  \n",
      " average_pooling2d_2 (Avera  (None, 7, 7, 64)             0         ['conv2d_2[0][0]']            \n",
      " gePooling2D)                                                                                     \n",
      "                                                                                                  \n",
      " flatten (Flatten)           (None, 3136)                 0         ['average_pooling2d_2[0][0]'] \n",
      "                                                                                                  \n",
      " dense (Dense)               (None, 128)                  401536    ['flatten[0][0]']             \n",
      "                                                                                                  \n",
      " classification (Dense)      (None, 10)                   1290      ['dense[0][0]']               \n",
      "                                                                                                  \n",
      " bounding_box (Dense)        (None, 4)                    516       ['dense[0][0]']               \n",
      "                                                                                                  \n",
      "==================================================================================================\n",
      "Total params: 426638 (1.63 MB)\n",
      "Trainable params: 426638 (1.63 MB)\n",
      "Non-trainable params: 0 (0.00 Byte)\n",
      "__________________________________________________________________________________________________\n"
     ]
    }
   ],
   "source": [
    "with strategy.scope():\n",
    "    inputs = tf.keras.layers.Input(shape=(75, 75, 1))\n",
    "    model = define_and_compile_model(inputs)\n",
    "model.summary()"
   ]
  },
  {
   "cell_type": "markdown",
   "id": "35da8621-0c12-492c-8e3f-68003d591a8b",
   "metadata": {},
   "source": [
    "### 5. Train and Validate the Model"
   ]
  },
  {
   "cell_type": "code",
   "execution_count": 26,
   "id": "427a907b-190a-4d2d-8692-ef4cdf4b14bf",
   "metadata": {},
   "outputs": [
    {
     "name": "stdout",
     "output_type": "stream",
     "text": [
      "Epoch 1/20\n",
      "937/937 [==============================] - 118s 125ms/step - loss: 0.2374 - classification_loss: 0.2303 - bounding_box_loss: 0.0072 - classification_accuracy: 0.9309 - bounding_box_mse: 0.0072 - val_loss: 0.1880 - val_classification_loss: 0.1833 - val_bounding_box_loss: 0.0047 - val_classification_accuracy: 0.9475 - val_bounding_box_mse: 0.0047\n",
      "Epoch 2/20\n",
      "937/937 [==============================] - 98s 105ms/step - loss: 0.1764 - classification_loss: 0.1724 - bounding_box_loss: 0.0040 - classification_accuracy: 0.9483 - bounding_box_mse: 0.0040 - val_loss: 0.1495 - val_classification_loss: 0.1466 - val_bounding_box_loss: 0.0029 - val_classification_accuracy: 0.9570 - val_bounding_box_mse: 0.0029\n",
      "Epoch 3/20\n",
      "937/937 [==============================] - 98s 105ms/step - loss: 0.1411 - classification_loss: 0.1383 - bounding_box_loss: 0.0028 - classification_accuracy: 0.9577 - bounding_box_mse: 0.0028 - val_loss: 0.1383 - val_classification_loss: 0.1359 - val_bounding_box_loss: 0.0024 - val_classification_accuracy: 0.9598 - val_bounding_box_mse: 0.0024\n",
      "Epoch 4/20\n",
      "937/937 [==============================] - 29305s 31s/step - loss: 0.1259 - classification_loss: 0.1238 - bounding_box_loss: 0.0021 - classification_accuracy: 0.9626 - bounding_box_mse: 0.0021 - val_loss: 0.1146 - val_classification_loss: 0.1128 - val_bounding_box_loss: 0.0018 - val_classification_accuracy: 0.9654 - val_bounding_box_mse: 0.0018\n",
      "Epoch 5/20\n",
      "937/937 [==============================] - 105s 112ms/step - loss: 0.1089 - classification_loss: 0.1072 - bounding_box_loss: 0.0017 - classification_accuracy: 0.9665 - bounding_box_mse: 0.0017 - val_loss: 0.0973 - val_classification_loss: 0.0957 - val_bounding_box_loss: 0.0016 - val_classification_accuracy: 0.9704 - val_bounding_box_mse: 0.0016\n",
      "Epoch 6/20\n",
      "937/937 [==============================] - 100s 106ms/step - loss: 0.0970 - classification_loss: 0.0956 - bounding_box_loss: 0.0014 - classification_accuracy: 0.9703 - bounding_box_mse: 0.0014 - val_loss: 0.1192 - val_classification_loss: 0.1179 - val_bounding_box_loss: 0.0013 - val_classification_accuracy: 0.9636 - val_bounding_box_mse: 0.0013\n",
      "Epoch 7/20\n",
      "790/937 [========================>.....] - ETA: 13s - loss: 0.0909 - classification_loss: 0.0896 - bounding_box_loss: 0.0013 - classification_accuracy: 0.9720 - bounding_box_mse: 0.0013"
     ]
    },
    {
     "ename": "KeyboardInterrupt",
     "evalue": "",
     "output_type": "error",
     "traceback": [
      "\u001b[31m---------------------------------------------------------------------------\u001b[39m",
      "\u001b[31mKeyboardInterrupt\u001b[39m                         Traceback (most recent call last)",
      "\u001b[36mCell\u001b[39m\u001b[36m \u001b[39m\u001b[32mIn[26]\u001b[39m\u001b[32m, line 4\u001b[39m\n\u001b[32m      1\u001b[39m EPOCHS = \u001b[32m20\u001b[39m\n\u001b[32m      2\u001b[39m steps_per_epoch = \u001b[32m60000\u001b[39m // BATCH_SIZE\n\u001b[32m----> \u001b[39m\u001b[32m4\u001b[39m history = \u001b[43mmodel\u001b[49m\u001b[43m.\u001b[49m\u001b[43mfit\u001b[49m\u001b[43m(\u001b[49m\n\u001b[32m      5\u001b[39m \u001b[43m    \u001b[49m\u001b[43mtraining_dataset\u001b[49m\u001b[43m,\u001b[49m\n\u001b[32m      6\u001b[39m \u001b[43m    \u001b[49m\u001b[43msteps_per_epoch\u001b[49m\u001b[43m=\u001b[49m\u001b[43msteps_per_epoch\u001b[49m\u001b[43m,\u001b[49m\n\u001b[32m      7\u001b[39m \u001b[43m    \u001b[49m\u001b[43mvalidation_data\u001b[49m\u001b[43m=\u001b[49m\u001b[43mvalidation_dataset\u001b[49m\u001b[43m,\u001b[49m\n\u001b[32m      8\u001b[39m \u001b[43m    \u001b[49m\u001b[43mvalidation_steps\u001b[49m\u001b[43m=\u001b[49m\u001b[32;43m1\u001b[39;49m\u001b[43m,\u001b[49m\n\u001b[32m      9\u001b[39m \u001b[43m    \u001b[49m\u001b[43mepochs\u001b[49m\u001b[43m=\u001b[49m\u001b[43mEPOCHS\u001b[49m\n\u001b[32m     10\u001b[39m \u001b[43m)\u001b[49m\n",
      "\u001b[36mFile \u001b[39m\u001b[32m~\\AppData\\Local\\Packages\\PythonSoftwareFoundation.Python.3.11_qbz5n2kfra8p0\\LocalCache\\local-packages\\Python311\\site-packages\\keras\\src\\utils\\traceback_utils.py:65\u001b[39m, in \u001b[36mfilter_traceback.<locals>.error_handler\u001b[39m\u001b[34m(*args, **kwargs)\u001b[39m\n\u001b[32m     63\u001b[39m filtered_tb = \u001b[38;5;28;01mNone\u001b[39;00m\n\u001b[32m     64\u001b[39m \u001b[38;5;28;01mtry\u001b[39;00m:\n\u001b[32m---> \u001b[39m\u001b[32m65\u001b[39m     \u001b[38;5;28;01mreturn\u001b[39;00m \u001b[43mfn\u001b[49m\u001b[43m(\u001b[49m\u001b[43m*\u001b[49m\u001b[43margs\u001b[49m\u001b[43m,\u001b[49m\u001b[43m \u001b[49m\u001b[43m*\u001b[49m\u001b[43m*\u001b[49m\u001b[43mkwargs\u001b[49m\u001b[43m)\u001b[49m\n\u001b[32m     66\u001b[39m \u001b[38;5;28;01mexcept\u001b[39;00m \u001b[38;5;167;01mException\u001b[39;00m \u001b[38;5;28;01mas\u001b[39;00m e:\n\u001b[32m     67\u001b[39m     filtered_tb = _process_traceback_frames(e.__traceback__)\n",
      "\u001b[36mFile \u001b[39m\u001b[32m~\\AppData\\Local\\Packages\\PythonSoftwareFoundation.Python.3.11_qbz5n2kfra8p0\\LocalCache\\local-packages\\Python311\\site-packages\\keras\\src\\engine\\training.py:1783\u001b[39m, in \u001b[36mModel.fit\u001b[39m\u001b[34m(self, x, y, batch_size, epochs, verbose, callbacks, validation_split, validation_data, shuffle, class_weight, sample_weight, initial_epoch, steps_per_epoch, validation_steps, validation_batch_size, validation_freq, max_queue_size, workers, use_multiprocessing)\u001b[39m\n\u001b[32m   1775\u001b[39m \u001b[38;5;28;01mwith\u001b[39;00m tf.profiler.experimental.Trace(\n\u001b[32m   1776\u001b[39m     \u001b[33m\"\u001b[39m\u001b[33mtrain\u001b[39m\u001b[33m\"\u001b[39m,\n\u001b[32m   1777\u001b[39m     epoch_num=epoch,\n\u001b[32m   (...)\u001b[39m\u001b[32m   1780\u001b[39m     _r=\u001b[32m1\u001b[39m,\n\u001b[32m   1781\u001b[39m ):\n\u001b[32m   1782\u001b[39m     callbacks.on_train_batch_begin(step)\n\u001b[32m-> \u001b[39m\u001b[32m1783\u001b[39m     tmp_logs = \u001b[38;5;28;43mself\u001b[39;49m\u001b[43m.\u001b[49m\u001b[43mtrain_function\u001b[49m\u001b[43m(\u001b[49m\u001b[43miterator\u001b[49m\u001b[43m)\u001b[49m\n\u001b[32m   1784\u001b[39m     \u001b[38;5;28;01mif\u001b[39;00m data_handler.should_sync:\n\u001b[32m   1785\u001b[39m         context.async_wait()\n",
      "\u001b[36mFile \u001b[39m\u001b[32m~\\AppData\\Local\\Packages\\PythonSoftwareFoundation.Python.3.11_qbz5n2kfra8p0\\LocalCache\\local-packages\\Python311\\site-packages\\tensorflow\\python\\util\\traceback_utils.py:150\u001b[39m, in \u001b[36mfilter_traceback.<locals>.error_handler\u001b[39m\u001b[34m(*args, **kwargs)\u001b[39m\n\u001b[32m    148\u001b[39m filtered_tb = \u001b[38;5;28;01mNone\u001b[39;00m\n\u001b[32m    149\u001b[39m \u001b[38;5;28;01mtry\u001b[39;00m:\n\u001b[32m--> \u001b[39m\u001b[32m150\u001b[39m   \u001b[38;5;28;01mreturn\u001b[39;00m \u001b[43mfn\u001b[49m\u001b[43m(\u001b[49m\u001b[43m*\u001b[49m\u001b[43margs\u001b[49m\u001b[43m,\u001b[49m\u001b[43m \u001b[49m\u001b[43m*\u001b[49m\u001b[43m*\u001b[49m\u001b[43mkwargs\u001b[49m\u001b[43m)\u001b[49m\n\u001b[32m    151\u001b[39m \u001b[38;5;28;01mexcept\u001b[39;00m \u001b[38;5;167;01mException\u001b[39;00m \u001b[38;5;28;01mas\u001b[39;00m e:\n\u001b[32m    152\u001b[39m   filtered_tb = _process_traceback_frames(e.__traceback__)\n",
      "\u001b[36mFile \u001b[39m\u001b[32m~\\AppData\\Local\\Packages\\PythonSoftwareFoundation.Python.3.11_qbz5n2kfra8p0\\LocalCache\\local-packages\\Python311\\site-packages\\tensorflow\\python\\eager\\polymorphic_function\\polymorphic_function.py:831\u001b[39m, in \u001b[36mFunction.__call__\u001b[39m\u001b[34m(self, *args, **kwds)\u001b[39m\n\u001b[32m    828\u001b[39m compiler = \u001b[33m\"\u001b[39m\u001b[33mxla\u001b[39m\u001b[33m\"\u001b[39m \u001b[38;5;28;01mif\u001b[39;00m \u001b[38;5;28mself\u001b[39m._jit_compile \u001b[38;5;28;01melse\u001b[39;00m \u001b[33m\"\u001b[39m\u001b[33mnonXla\u001b[39m\u001b[33m\"\u001b[39m\n\u001b[32m    830\u001b[39m \u001b[38;5;28;01mwith\u001b[39;00m OptionalXlaContext(\u001b[38;5;28mself\u001b[39m._jit_compile):\n\u001b[32m--> \u001b[39m\u001b[32m831\u001b[39m   result = \u001b[38;5;28;43mself\u001b[39;49m\u001b[43m.\u001b[49m\u001b[43m_call\u001b[49m\u001b[43m(\u001b[49m\u001b[43m*\u001b[49m\u001b[43margs\u001b[49m\u001b[43m,\u001b[49m\u001b[43m \u001b[49m\u001b[43m*\u001b[49m\u001b[43m*\u001b[49m\u001b[43mkwds\u001b[49m\u001b[43m)\u001b[49m\n\u001b[32m    833\u001b[39m new_tracing_count = \u001b[38;5;28mself\u001b[39m.experimental_get_tracing_count()\n\u001b[32m    834\u001b[39m without_tracing = (tracing_count == new_tracing_count)\n",
      "\u001b[36mFile \u001b[39m\u001b[32m~\\AppData\\Local\\Packages\\PythonSoftwareFoundation.Python.3.11_qbz5n2kfra8p0\\LocalCache\\local-packages\\Python311\\site-packages\\tensorflow\\python\\eager\\polymorphic_function\\polymorphic_function.py:867\u001b[39m, in \u001b[36mFunction._call\u001b[39m\u001b[34m(self, *args, **kwds)\u001b[39m\n\u001b[32m    864\u001b[39m   \u001b[38;5;28mself\u001b[39m._lock.release()\n\u001b[32m    865\u001b[39m   \u001b[38;5;66;03m# In this case we have created variables on the first call, so we run the\u001b[39;00m\n\u001b[32m    866\u001b[39m   \u001b[38;5;66;03m# defunned version which is guaranteed to never create variables.\u001b[39;00m\n\u001b[32m--> \u001b[39m\u001b[32m867\u001b[39m   \u001b[38;5;28;01mreturn\u001b[39;00m \u001b[43mtracing_compilation\u001b[49m\u001b[43m.\u001b[49m\u001b[43mcall_function\u001b[49m\u001b[43m(\u001b[49m\n\u001b[32m    868\u001b[39m \u001b[43m      \u001b[49m\u001b[43margs\u001b[49m\u001b[43m,\u001b[49m\u001b[43m \u001b[49m\u001b[43mkwds\u001b[49m\u001b[43m,\u001b[49m\u001b[43m \u001b[49m\u001b[38;5;28;43mself\u001b[39;49m\u001b[43m.\u001b[49m\u001b[43m_no_variable_creation_config\u001b[49m\n\u001b[32m    869\u001b[39m \u001b[43m  \u001b[49m\u001b[43m)\u001b[49m\n\u001b[32m    870\u001b[39m \u001b[38;5;28;01melif\u001b[39;00m \u001b[38;5;28mself\u001b[39m._variable_creation_config \u001b[38;5;129;01mis\u001b[39;00m \u001b[38;5;129;01mnot\u001b[39;00m \u001b[38;5;28;01mNone\u001b[39;00m:\n\u001b[32m    871\u001b[39m   \u001b[38;5;66;03m# Release the lock early so that multiple threads can perform the call\u001b[39;00m\n\u001b[32m    872\u001b[39m   \u001b[38;5;66;03m# in parallel.\u001b[39;00m\n\u001b[32m    873\u001b[39m   \u001b[38;5;28mself\u001b[39m._lock.release()\n",
      "\u001b[36mFile \u001b[39m\u001b[32m~\\AppData\\Local\\Packages\\PythonSoftwareFoundation.Python.3.11_qbz5n2kfra8p0\\LocalCache\\local-packages\\Python311\\site-packages\\tensorflow\\python\\eager\\polymorphic_function\\tracing_compilation.py:139\u001b[39m, in \u001b[36mcall_function\u001b[39m\u001b[34m(args, kwargs, tracing_options)\u001b[39m\n\u001b[32m    137\u001b[39m bound_args = function.function_type.bind(*args, **kwargs)\n\u001b[32m    138\u001b[39m flat_inputs = function.function_type.unpack_inputs(bound_args)\n\u001b[32m--> \u001b[39m\u001b[32m139\u001b[39m \u001b[38;5;28;01mreturn\u001b[39;00m \u001b[43mfunction\u001b[49m\u001b[43m.\u001b[49m\u001b[43m_call_flat\u001b[49m\u001b[43m(\u001b[49m\u001b[43m  \u001b[49m\u001b[38;5;66;43;03m# pylint: disable=protected-access\u001b[39;49;00m\n\u001b[32m    140\u001b[39m \u001b[43m    \u001b[49m\u001b[43mflat_inputs\u001b[49m\u001b[43m,\u001b[49m\u001b[43m \u001b[49m\u001b[43mcaptured_inputs\u001b[49m\u001b[43m=\u001b[49m\u001b[43mfunction\u001b[49m\u001b[43m.\u001b[49m\u001b[43mcaptured_inputs\u001b[49m\n\u001b[32m    141\u001b[39m \u001b[43m\u001b[49m\u001b[43m)\u001b[49m\n",
      "\u001b[36mFile \u001b[39m\u001b[32m~\\AppData\\Local\\Packages\\PythonSoftwareFoundation.Python.3.11_qbz5n2kfra8p0\\LocalCache\\local-packages\\Python311\\site-packages\\tensorflow\\python\\eager\\polymorphic_function\\concrete_function.py:1264\u001b[39m, in \u001b[36mConcreteFunction._call_flat\u001b[39m\u001b[34m(self, tensor_inputs, captured_inputs)\u001b[39m\n\u001b[32m   1260\u001b[39m possible_gradient_type = gradients_util.PossibleTapeGradientTypes(args)\n\u001b[32m   1261\u001b[39m \u001b[38;5;28;01mif\u001b[39;00m (possible_gradient_type == gradients_util.POSSIBLE_GRADIENT_TYPES_NONE\n\u001b[32m   1262\u001b[39m     \u001b[38;5;129;01mand\u001b[39;00m executing_eagerly):\n\u001b[32m   1263\u001b[39m   \u001b[38;5;66;03m# No tape is watching; skip to running the function.\u001b[39;00m\n\u001b[32m-> \u001b[39m\u001b[32m1264\u001b[39m   \u001b[38;5;28;01mreturn\u001b[39;00m \u001b[38;5;28;43mself\u001b[39;49m\u001b[43m.\u001b[49m\u001b[43m_inference_function\u001b[49m\u001b[43m.\u001b[49m\u001b[43mflat_call\u001b[49m\u001b[43m(\u001b[49m\u001b[43margs\u001b[49m\u001b[43m)\u001b[49m\n\u001b[32m   1265\u001b[39m forward_backward = \u001b[38;5;28mself\u001b[39m._select_forward_and_backward_functions(\n\u001b[32m   1266\u001b[39m     args,\n\u001b[32m   1267\u001b[39m     possible_gradient_type,\n\u001b[32m   1268\u001b[39m     executing_eagerly)\n\u001b[32m   1269\u001b[39m forward_function, args_with_tangents = forward_backward.forward()\n",
      "\u001b[36mFile \u001b[39m\u001b[32m~\\AppData\\Local\\Packages\\PythonSoftwareFoundation.Python.3.11_qbz5n2kfra8p0\\LocalCache\\local-packages\\Python311\\site-packages\\tensorflow\\python\\eager\\polymorphic_function\\atomic_function.py:217\u001b[39m, in \u001b[36mAtomicFunction.flat_call\u001b[39m\u001b[34m(self, args)\u001b[39m\n\u001b[32m    215\u001b[39m \u001b[38;5;28;01mdef\u001b[39;00m \u001b[34mflat_call\u001b[39m(\u001b[38;5;28mself\u001b[39m, args: Sequence[core.Tensor]) -> Any:\n\u001b[32m    216\u001b[39m \u001b[38;5;250m  \u001b[39m\u001b[33;03m\"\"\"Calls with tensor inputs and returns the structured output.\"\"\"\u001b[39;00m\n\u001b[32m--> \u001b[39m\u001b[32m217\u001b[39m   flat_outputs = \u001b[38;5;28;43mself\u001b[39;49m\u001b[43m(\u001b[49m\u001b[43m*\u001b[49m\u001b[43margs\u001b[49m\u001b[43m)\u001b[49m\n\u001b[32m    218\u001b[39m   \u001b[38;5;28;01mreturn\u001b[39;00m \u001b[38;5;28mself\u001b[39m.function_type.pack_output(flat_outputs)\n",
      "\u001b[36mFile \u001b[39m\u001b[32m~\\AppData\\Local\\Packages\\PythonSoftwareFoundation.Python.3.11_qbz5n2kfra8p0\\LocalCache\\local-packages\\Python311\\site-packages\\tensorflow\\python\\eager\\polymorphic_function\\atomic_function.py:252\u001b[39m, in \u001b[36mAtomicFunction.__call__\u001b[39m\u001b[34m(self, *args)\u001b[39m\n\u001b[32m    250\u001b[39m \u001b[38;5;28;01mwith\u001b[39;00m record.stop_recording():\n\u001b[32m    251\u001b[39m   \u001b[38;5;28;01mif\u001b[39;00m \u001b[38;5;28mself\u001b[39m._bound_context.executing_eagerly():\n\u001b[32m--> \u001b[39m\u001b[32m252\u001b[39m     outputs = \u001b[38;5;28;43mself\u001b[39;49m\u001b[43m.\u001b[49m\u001b[43m_bound_context\u001b[49m\u001b[43m.\u001b[49m\u001b[43mcall_function\u001b[49m\u001b[43m(\u001b[49m\n\u001b[32m    253\u001b[39m \u001b[43m        \u001b[49m\u001b[38;5;28;43mself\u001b[39;49m\u001b[43m.\u001b[49m\u001b[43mname\u001b[49m\u001b[43m,\u001b[49m\n\u001b[32m    254\u001b[39m \u001b[43m        \u001b[49m\u001b[38;5;28;43mlist\u001b[39;49m\u001b[43m(\u001b[49m\u001b[43margs\u001b[49m\u001b[43m)\u001b[49m\u001b[43m,\u001b[49m\n\u001b[32m    255\u001b[39m \u001b[43m        \u001b[49m\u001b[38;5;28;43mlen\u001b[39;49m\u001b[43m(\u001b[49m\u001b[38;5;28;43mself\u001b[39;49m\u001b[43m.\u001b[49m\u001b[43mfunction_type\u001b[49m\u001b[43m.\u001b[49m\u001b[43mflat_outputs\u001b[49m\u001b[43m)\u001b[49m\u001b[43m,\u001b[49m\n\u001b[32m    256\u001b[39m \u001b[43m    \u001b[49m\u001b[43m)\u001b[49m\n\u001b[32m    257\u001b[39m   \u001b[38;5;28;01melse\u001b[39;00m:\n\u001b[32m    258\u001b[39m     outputs = make_call_op_in_graph(\n\u001b[32m    259\u001b[39m         \u001b[38;5;28mself\u001b[39m,\n\u001b[32m    260\u001b[39m         \u001b[38;5;28mlist\u001b[39m(args),\n\u001b[32m    261\u001b[39m         \u001b[38;5;28mself\u001b[39m._bound_context.function_call_options.as_attrs(),\n\u001b[32m    262\u001b[39m     )\n",
      "\u001b[36mFile \u001b[39m\u001b[32m~\\AppData\\Local\\Packages\\PythonSoftwareFoundation.Python.3.11_qbz5n2kfra8p0\\LocalCache\\local-packages\\Python311\\site-packages\\tensorflow\\python\\eager\\context.py:1479\u001b[39m, in \u001b[36mContext.call_function\u001b[39m\u001b[34m(self, name, tensor_inputs, num_outputs)\u001b[39m\n\u001b[32m   1477\u001b[39m cancellation_context = cancellation.context()\n\u001b[32m   1478\u001b[39m \u001b[38;5;28;01mif\u001b[39;00m cancellation_context \u001b[38;5;129;01mis\u001b[39;00m \u001b[38;5;28;01mNone\u001b[39;00m:\n\u001b[32m-> \u001b[39m\u001b[32m1479\u001b[39m   outputs = \u001b[43mexecute\u001b[49m\u001b[43m.\u001b[49m\u001b[43mexecute\u001b[49m\u001b[43m(\u001b[49m\n\u001b[32m   1480\u001b[39m \u001b[43m      \u001b[49m\u001b[43mname\u001b[49m\u001b[43m.\u001b[49m\u001b[43mdecode\u001b[49m\u001b[43m(\u001b[49m\u001b[33;43m\"\u001b[39;49m\u001b[33;43mutf-8\u001b[39;49m\u001b[33;43m\"\u001b[39;49m\u001b[43m)\u001b[49m\u001b[43m,\u001b[49m\n\u001b[32m   1481\u001b[39m \u001b[43m      \u001b[49m\u001b[43mnum_outputs\u001b[49m\u001b[43m=\u001b[49m\u001b[43mnum_outputs\u001b[49m\u001b[43m,\u001b[49m\n\u001b[32m   1482\u001b[39m \u001b[43m      \u001b[49m\u001b[43minputs\u001b[49m\u001b[43m=\u001b[49m\u001b[43mtensor_inputs\u001b[49m\u001b[43m,\u001b[49m\n\u001b[32m   1483\u001b[39m \u001b[43m      \u001b[49m\u001b[43mattrs\u001b[49m\u001b[43m=\u001b[49m\u001b[43mattrs\u001b[49m\u001b[43m,\u001b[49m\n\u001b[32m   1484\u001b[39m \u001b[43m      \u001b[49m\u001b[43mctx\u001b[49m\u001b[43m=\u001b[49m\u001b[38;5;28;43mself\u001b[39;49m\u001b[43m,\u001b[49m\n\u001b[32m   1485\u001b[39m \u001b[43m  \u001b[49m\u001b[43m)\u001b[49m\n\u001b[32m   1486\u001b[39m \u001b[38;5;28;01melse\u001b[39;00m:\n\u001b[32m   1487\u001b[39m   outputs = execute.execute_with_cancellation(\n\u001b[32m   1488\u001b[39m       name.decode(\u001b[33m\"\u001b[39m\u001b[33mutf-8\u001b[39m\u001b[33m\"\u001b[39m),\n\u001b[32m   1489\u001b[39m       num_outputs=num_outputs,\n\u001b[32m   (...)\u001b[39m\u001b[32m   1493\u001b[39m       cancellation_manager=cancellation_context,\n\u001b[32m   1494\u001b[39m   )\n",
      "\u001b[36mFile \u001b[39m\u001b[32m~\\AppData\\Local\\Packages\\PythonSoftwareFoundation.Python.3.11_qbz5n2kfra8p0\\LocalCache\\local-packages\\Python311\\site-packages\\tensorflow\\python\\eager\\execute.py:60\u001b[39m, in \u001b[36mquick_execute\u001b[39m\u001b[34m(op_name, num_outputs, inputs, attrs, ctx, name)\u001b[39m\n\u001b[32m     53\u001b[39m   \u001b[38;5;66;03m# Convert any objects of type core_types.Tensor to Tensor.\u001b[39;00m\n\u001b[32m     54\u001b[39m   inputs = [\n\u001b[32m     55\u001b[39m       tensor_conversion_registry.convert(t)\n\u001b[32m     56\u001b[39m       \u001b[38;5;28;01mif\u001b[39;00m \u001b[38;5;28misinstance\u001b[39m(t, core_types.Tensor)\n\u001b[32m     57\u001b[39m       \u001b[38;5;28;01melse\u001b[39;00m t\n\u001b[32m     58\u001b[39m       \u001b[38;5;28;01mfor\u001b[39;00m t \u001b[38;5;129;01min\u001b[39;00m inputs\n\u001b[32m     59\u001b[39m   ]\n\u001b[32m---> \u001b[39m\u001b[32m60\u001b[39m   tensors = \u001b[43mpywrap_tfe\u001b[49m\u001b[43m.\u001b[49m\u001b[43mTFE_Py_Execute\u001b[49m\u001b[43m(\u001b[49m\u001b[43mctx\u001b[49m\u001b[43m.\u001b[49m\u001b[43m_handle\u001b[49m\u001b[43m,\u001b[49m\u001b[43m \u001b[49m\u001b[43mdevice_name\u001b[49m\u001b[43m,\u001b[49m\u001b[43m \u001b[49m\u001b[43mop_name\u001b[49m\u001b[43m,\u001b[49m\n\u001b[32m     61\u001b[39m \u001b[43m                                      \u001b[49m\u001b[43minputs\u001b[49m\u001b[43m,\u001b[49m\u001b[43m \u001b[49m\u001b[43mattrs\u001b[49m\u001b[43m,\u001b[49m\u001b[43m \u001b[49m\u001b[43mnum_outputs\u001b[49m\u001b[43m)\u001b[49m\n\u001b[32m     62\u001b[39m \u001b[38;5;28;01mexcept\u001b[39;00m core._NotOkStatusException \u001b[38;5;28;01mas\u001b[39;00m e:\n\u001b[32m     63\u001b[39m   \u001b[38;5;28;01mif\u001b[39;00m name \u001b[38;5;129;01mis\u001b[39;00m \u001b[38;5;129;01mnot\u001b[39;00m \u001b[38;5;28;01mNone\u001b[39;00m:\n",
      "\u001b[31mKeyboardInterrupt\u001b[39m: "
     ]
    }
   ],
   "source": [
    "EPOCHS = 20\n",
    "steps_per_epoch = 60000 // BATCH_SIZE\n",
    "\n",
    "history = model.fit(\n",
    "    training_dataset,\n",
    "    steps_per_epoch=steps_per_epoch,\n",
    "    validation_data=validation_dataset,\n",
    "    validation_steps=1,\n",
    "    epochs=EPOCHS\n",
    ")\n",
    "\n"
   ]
  },
  {
   "cell_type": "code",
   "execution_count": 31,
   "id": "cea65c4d-d3d8-45f8-80b2-dce5d49aadb1",
   "metadata": {},
   "outputs": [
    {
     "name": "stdout",
     "output_type": "stream",
     "text": [
      "\u001b[1m1/1\u001b[0m \u001b[32m━━━━━━━━━━━━━━━━━━━━\u001b[0m\u001b[37m\u001b[0m \u001b[1m14s\u001b[0m 14s/step - bounding_box_mse: 0.0012 - classification_accuracy: 0.9873 - loss: 0.0415\n",
      "Evaluation Results: [0.04148370772600174, 0.0011708523379638791, 0.9872999787330627]\n",
      "Metrics Names: ['loss', 'compile_metrics']\n"
     ]
    }
   ],
   "source": [
    "results = model.evaluate(validation_dataset, steps=1)\n",
    "print(\"Evaluation Results:\", results)\n",
    "print(\"Metrics Names:\", model.metrics_names)\n"
   ]
  },
  {
   "cell_type": "code",
   "execution_count": 1,
   "id": "c92f18b3-cd31-43bb-bf85-7a6fd557186a",
   "metadata": {},
   "outputs": [
    {
     "ename": "NameError",
     "evalue": "name 'model' is not defined",
     "output_type": "error",
     "traceback": [
      "\u001b[31m---------------------------------------------------------------------------\u001b[39m",
      "\u001b[31mNameError\u001b[39m                                 Traceback (most recent call last)",
      "\u001b[36mCell\u001b[39m\u001b[36m \u001b[39m\u001b[32mIn[1]\u001b[39m\u001b[32m, line 1\u001b[39m\n\u001b[32m----> \u001b[39m\u001b[32m1\u001b[39m loss, bounding_box_mse, classification_accuracy = \u001b[43mmodel\u001b[49m.evaluate(validation_dataset, steps=\u001b[32m1\u001b[39m)\n\u001b[32m      2\u001b[39m \u001b[38;5;28mprint\u001b[39m(\u001b[33m\"\u001b[39m\u001b[33mTotal Loss:\u001b[39m\u001b[33m\"\u001b[39m, loss)\n\u001b[32m      3\u001b[39m \u001b[38;5;28mprint\u001b[39m(\u001b[33m\"\u001b[39m\u001b[33mBounding Box MSE:\u001b[39m\u001b[33m\"\u001b[39m, bounding_box_mse)\n",
      "\u001b[31mNameError\u001b[39m: name 'model' is not defined"
     ]
    }
   ],
   "source": [
    "loss, bounding_box_mse, classification_accuracy = model.evaluate(validation_dataset, steps=1)\n",
    "print(\"Total Loss:\", loss)\n",
    "print(\"Bounding Box MSE:\", bounding_box_mse)\n",
    "print(\"Classification Accuracy:\", classification_accuracy)\n"
   ]
  },
  {
   "cell_type": "code",
   "execution_count": 41,
   "id": "b2adb36a-e85f-44b2-ae77-55d954e564a1",
   "metadata": {},
   "outputs": [
    {
     "name": "stdout",
     "output_type": "stream",
     "text": [
      "['loss', 'compile_metrics']\n"
     ]
    }
   ],
   "source": [
    "print(model.metrics_names)"
   ]
  },
  {
   "cell_type": "code",
   "execution_count": 33,
   "id": "8aa9af48-04bd-4908-9b2a-e366f1aeb97f",
   "metadata": {},
   "outputs": [
    {
     "data": {
      "image/png": "[encoded data removed]",
      "text/plain": [
       "<Figure size 640x480 with 1 Axes>"
      ]
     },
     "metadata": {},
     "output_type": "display_data"
    }
   ],
   "source": [
    "plot_metrics(\"bounding_box_mse\", \"Bounding Box MSE\")"
   ]
  },
  {
   "cell_type": "code",
   "execution_count": 34,
   "id": "af9ac730-939d-4871-9693-495b713cb12d",
   "metadata": {},
   "outputs": [
    {
     "data": {
      "image/png": "[encoded data removed]",
      "text/plain": [
       "<Figure size 640x480 with 1 Axes>"
      ]
     },
     "metadata": {},
     "output_type": "display_data"
    }
   ],
   "source": [
    "plot_metrics(\"classification_accuracy\", \"Classification Accuracy\")"
   ]
  },
  {
   "cell_type": "code",
   "execution_count": null,
   "id": "6e5029aa-d51d-478f-91dd-3145081c67b3",
   "metadata": {},
   "outputs": [],
   "source": [
    "plot_metrics(\"classification_loss\", \"Classification loss\")"
   ]
  },
  {
   "cell_type": "code",
   "execution_count": 46,
   "id": "fd2edd3b-798a-41b7-9c19-1ff5a579ca6a",
   "metadata": {},
   "outputs": [],
   "source": [
    "def intersection_over_union(pred_box, true_box):\n",
    "    xmin_pred, ymin_pred, xmax_pred, ymax_pred = np.split(pred_box, 4, axis=1)\n",
    "    xmin_true, ymin_true, xmax_true, ymax_true = np.split(true_box, 4, axis=1)\n",
    "\n",
    "    smoothing_factor = 1e-10\n",
    "\n",
    "    xmin_overlap = np.maximum(xmin_pred, xmin_true)\n",
    "    xmax_overlap = np.minimum(xmax_pred, xmax_true)\n",
    "    ymin_overlap = np.maximum(ymin_pred, ymin_true)\n",
    "    ymax_overlap = np.minimum(ymax_pred, ymax_true)\n",
    "\n",
    "    pred_box_area = (xmax_pred - xmin_pred) * (ymax_pred - ymin_pred)\n",
    "    true_box_area = (xmax_true - xmin_true) * (ymax_true - ymin_true)\n",
    "    overlap_area = np.maximum((xmax_overlap - xmin_overlap), 0) * np.maximum((ymax_overlap - ymin_overlap), 0)\n",
    "    union_area = (pred_box_area + true_box_area) - overlap_area\n",
    "\n",
    "    iou = (overlap_area + smoothing_factor) / (union_area + smoothing_factor)\n",
    "    return iou"
   ]
  },
  {
   "cell_type": "code",
   "execution_count": 47,
   "id": "e0304710-691d-41aa-a85a-44ef01d5164f",
   "metadata": {},
   "outputs": [
    {
     "name": "stdout",
     "output_type": "stream",
     "text": [
      "\u001b[1m157/157\u001b[0m \u001b[32m━━━━━━━━━━━━━━━━━━━━\u001b[0m\u001b[37m\u001b[0m \u001b[1m4s\u001b[0m 20ms/step\n"
     ]
    }
   ],
   "source": [
    "prediction = model.predict(validation_digits, batch_size=64)\n",
    "predicted_labels = np.argmax(prediction[0], axis=1)\n",
    "prediction_bboxes = prediction[1]"
   ]
  },
  {
   "cell_type": "code",
   "execution_count": 48,
   "id": "bdaa2ea0-96d9-43bc-87df-6149869785f7",
   "metadata": {},
   "outputs": [
    {
     "data": {
      "image/png": "[encoded data removed]",
      "text/plain": [
       "<Figure size 2000x400 with 4 Axes>"
      ]
     },
     "metadata": {},
     "output_type": "display_data"
    }
   ],
   "source": [
    "iou = intersection_over_union(prediction_bboxes, validation_bboxes)\n",
    "iou_threshold = 0.6\n",
    "\n",
    "display_digits_with_boxes(\n",
    "    validation_digits, \n",
    "    predicted_labels, \n",
    "    validation_labels, \n",
    "    prediction_bboxes, \n",
    "    validation_bboxes, \n",
    "    iou, \n",
    "    \"True and Pred values\"\n",
    ")"
   ]
  },
  {
   "cell_type": "code",
   "execution_count": 49,
   "id": "aa5a3c5c-7a56-4a17-a4ee-9dddd928affa",
   "metadata": {},
   "outputs": [
    {
     "data": {
      "image/png": "[encoded data removed]",
      "text/plain": [
       "<Figure size 2000x400 with 4 Axes>"
      ]
     },
     "metadata": {},
     "output_type": "display_data"
    }
   ],
   "source": [
    "display_digits_with_boxes(\n",
    "    validation_digits,\n",
    "    predicted_labels,\n",
    "    validation_labels,\n",
    "    prediction_bboxes,\n",
    "    validation_bboxes,\n",
    "    iou,\n",
    "    \"True and Pred values\"\n",
    ")"
   ]
  },
  {
   "cell_type": "code",
   "execution_count": null,
   "id": "c66e03d0-b39e-4898-991e-4b8b6a3c21ae",
   "metadata": {},
   "outputs": [],
   "source": []
  },
  {
   "cell_type": "code",
   "execution_count": null,
   "id": "290d7a31-2205-45e9-a733-2fa8477dade4",
   "metadata": {},
   "outputs": [],
   "source": [
    "# loss, classification_loss, bounding_box_loss, classification_acc, bounding_box_mse = model.evaluate(validation_dataset, steps=1)\n",
    "# print(\"\\n-----------------\\n\")\n",
    "# print(\"Validation Accuracy:\", classification_acc)\n",
    "# print(\"\\n-----------------\\n\")"
   ]
  }
 ],
 "metadata": {
  "kernelspec": {
   "display_name": "Python 3 (ipykernel)",
   "language": "python",
   "name": "python3"
  },
  "language_info": {
   "codemirror_mode": {
    "name": "ipython",
    "version": 3
   },
   "file_extension": ".py",
   "mimetype": "text/x-python",
   "name": "python",
   "nbconvert_exporter": "python",
   "pygments_lexer": "ipython3",
   "version": "3.11.9"
  }
 },
 "nbformat": 4,
 "nbformat_minor": 5
}
